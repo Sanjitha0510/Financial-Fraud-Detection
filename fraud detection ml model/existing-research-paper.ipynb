{
 "cells": [
  {
   "cell_type": "code",
   "execution_count": 3,
   "id": "183621e2-4075-49a9-bf13-db4ce5a936f8",
   "metadata": {},
   "outputs": [],
   "source": [
    "import pandas as pd\n",
    "import numpy as np"
   ]
  },
  {
   "cell_type": "code",
   "execution_count": 4,
   "id": "3a9190b3-a0b0-42a4-bcec-d6df5bbb0df6",
   "metadata": {},
   "outputs": [
    {
     "name": "stdout",
     "output_type": "stream",
     "text": [
      "Train ROC AUC: 1.0\n",
      "Test ROC AUC: 0.9983366016709728\n",
      "Train Precision: 1.0, Train Recall: 1.0\n",
      "Test Precision: 0.9737574552683896, Test Recall: 0.9959333062220415\n"
     ]
    }
   ],
   "source": [
    "# Import necessary libraries\n",
    "import pandas as pd\n",
    "from sklearn.model_selection import train_test_split\n",
    "from sklearn.preprocessing import StandardScaler\n",
    "from sklearn.ensemble import RandomForestClassifier\n",
    "from sklearn.metrics import precision_score, recall_score, roc_auc_score\n",
    "from imblearn.over_sampling import SMOTE\n",
    "\n",
    "# 1. **Load the dataset**\n",
    "df = pd.read_csv('transaction.csv')\n",
    "\n",
    "# 2. **Preprocessing**\n",
    "\n",
    "# Retain only relevant transaction types (CASH_OUT and TRANSFER)\n",
    "df = df[df['type'].isin(['CASH_OUT', 'TRANSFER'])]\n",
    "\n",
    "# Remove zero or negative amounts\n",
    "df = df[df['amount'] > 0]\n",
    "\n",
    "# Create balance inaccuracies\n",
    "df['origBalance_inacc'] = (df['oldbalanceOrg'] - df['amount']) - df['newbalanceOrig']\n",
    "df['destBalance_inacc'] = (df['oldbalanceDest'] + df['amount']) - df['newbalanceDest']\n",
    "\n",
    "# Drop unnecessary columns (nameOrig and nameDest)\n",
    "df = df.drop(columns=['nameOrig', 'nameDest'])\n",
    "\n",
    "# One-hot encode the 'type' column\n",
    "df = pd.get_dummies(df, columns=['type'], prefix='type')\n",
    "\n",
    "# 3. **Splitting the dataset**\n",
    "X = df.drop(columns=['isFraud'])\n",
    "y = df['isFraud']\n",
    "\n",
    "# 4. **Train-test split**\n",
    "X_train, X_test, y_train, y_test = train_test_split(X, y, test_size=0.3, random_state=42, stratify=y)\n",
    "\n",
    "# 5. **Handling Class Imbalance using SMOTE**\n",
    "smote = SMOTE(random_state=42)\n",
    "X_train_resampled, y_train_resampled = smote.fit_resample(X_train, y_train)\n",
    "\n",
    "# 6. **Standardize the dataset**\n",
    "scaler = StandardScaler()\n",
    "X_train_resampled = scaler.fit_transform(X_train_resampled)\n",
    "X_test = scaler.transform(X_test)\n",
    "\n",
    "# 7. **Random Forest Model Creation**\n",
    "rf_model = RandomForestClassifier(\n",
    "    n_estimators=200, \n",
    "    max_depth=None, \n",
    "    min_samples_split=2, \n",
    "    min_samples_leaf=1, \n",
    "    random_state=42\n",
    ")\n",
    "\n",
    "# 8. **Training the Model**\n",
    "rf_model.fit(X_train_resampled, y_train_resampled)\n",
    "\n",
    "# 9. **Make Predictions**\n",
    "y_pred_train = rf_model.predict(X_train_resampled)\n",
    "y_pred_test = rf_model.predict(X_test)\n",
    "\n",
    "# 10. **Evaluate the Model**\n",
    "\n",
    "# ROC AUC Score\n",
    "roc_auc_train = roc_auc_score(y_train_resampled, rf_model.predict_proba(X_train_resampled)[:, 1])\n",
    "roc_auc_test = roc_auc_score(y_test, rf_model.predict_proba(X_test)[:, 1])\n",
    "\n",
    "# Precision and Recall\n",
    "train_precision = precision_score(y_train_resampled, y_pred_train)\n",
    "train_recall = recall_score(y_train_resampled, y_pred_train)\n",
    "\n",
    "test_precision = precision_score(y_test, y_pred_test)\n",
    "test_recall = recall_score(y_test, y_pred_test)\n",
    "\n",
    "# Output the results\n",
    "print(f\"Train ROC AUC: {roc_auc_train}\")\n",
    "print(f\"Test ROC AUC: {roc_auc_test}\")\n",
    "print(f\"Train Precision: {train_precision}, Train Recall: {train_recall}\")\n",
    "print(f\"Test Precision: {test_precision}, Test Recall: {test_recall}\")\n"
   ]
  },
  {
   "cell_type": "code",
   "execution_count": 5,
   "id": "0bf617fd",
   "metadata": {},
   "outputs": [
    {
     "name": "stdout",
     "output_type": "stream",
     "text": [
      "              precision  recall  f1-score   support\n",
      "Metrics                                            \n",
      "0                 1.000   1.000     1.000  828659.0\n",
      "1                 0.974   0.996     0.985    2459.0\n",
      "accuracy          1.000   1.000     1.000       1.0\n",
      "macro avg         0.987   0.998     0.992  831118.0\n",
      "weighted avg      1.000   1.000     1.000  831118.0\n"
     ]
    }
   ],
   "source": [
    "from sklearn.metrics import classification_report\n",
    "import pandas as pd\n",
    "\n",
    "# Generate the classification report\n",
    "report = classification_report(y_test, y_pred_test, output_dict=True)\n",
    "\n",
    "# Convert the report into a DataFrame\n",
    "report_df = pd.DataFrame(report).transpose()\n",
    "\n",
    "# Improve the format: round to 3 decimal places and set the index name\n",
    "report_df = report_df.round(3)\n",
    "report_df.index.name = 'Metrics'\n",
    "\n",
    "# Display the improved classification report\n",
    "print(report_df)\n"
   ]
  },
  {
   "cell_type": "code",
   "execution_count": null,
   "id": "8d1fdf53",
   "metadata": {},
   "outputs": [],
   "source": []
  }
 ],
 "metadata": {
  "kernelspec": {
   "display_name": "Python 3 (ipykernel)",
   "language": "python",
   "name": "python3"
  },
  "language_info": {
   "codemirror_mode": {
    "name": "ipython",
    "version": 3
   },
   "file_extension": ".py",
   "mimetype": "text/x-python",
   "name": "python",
   "nbconvert_exporter": "python",
   "pygments_lexer": "ipython3",
   "version": "3.12.5"
  }
 },
 "nbformat": 4,
 "nbformat_minor": 5
}
